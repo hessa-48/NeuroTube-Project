{
  "nbformat": 4,
  "nbformat_minor": 0,
  "metadata": {
    "colab": {
      "provenance": []
    },
    "kernelspec": {
      "name": "python3",
      "display_name": "Python 3"
    },
    "language_info": {
      "name": "python"
    }
  },
  "cells": [
    {
      "cell_type": "markdown",
      "source": [
        "# 🚀 NeuroTube-Project - Deployment Notebook\n",
        "This notebook launches the Gradio interface for the YouTube AI Assistant.\n"
      ],
      "metadata": {
        "id": "G_K0czftkjhD"
      }
    },
    {
      "cell_type": "markdown",
      "source": [
        "### 🔹 1. Install Requirements (if needed)"
      ],
      "metadata": {
        "id": "bRPggvU_kFWk"
      }
    },
    {
      "cell_type": "code",
      "execution_count": null,
      "metadata": {
        "id": "NliJFx_zhvEn"
      },
      "outputs": [],
      "source": [
        "# Optional: Only for Colab or clean environments\n",
        "!pip install -r ../requirements.txt\n"
      ]
    },
    {
      "cell_type": "markdown",
      "source": [
        "### 🔹 2. Import Your Interface"
      ],
      "metadata": {
        "id": "de5Nf-LbkNt4"
      }
    },
    {
      "cell_type": "code",
      "source": [
        "# Import the main Gradio interface from your source folder\n",
        "from source.interface import demo\n"
      ],
      "metadata": {
        "id": "ctJztok6kPme"
      },
      "execution_count": null,
      "outputs": []
    },
    {
      "cell_type": "markdown",
      "source": [
        "### 🔹 3. Launch the App"
      ],
      "metadata": {
        "id": "pM3aw11HkUFz"
      }
    },
    {
      "cell_type": "code",
      "source": [
        "# Launch with share link enabled\n",
        "demo.launch(share=True)\n"
      ],
      "metadata": {
        "id": "cKmSCzUfkWCP"
      },
      "execution_count": null,
      "outputs": []
    }
  ]
}